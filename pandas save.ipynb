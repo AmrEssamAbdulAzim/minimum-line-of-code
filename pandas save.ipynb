{
 "cells": [
  {
   "cell_type": "code",
   "execution_count": 1,
   "metadata": {},
   "outputs": [],
   "source": [
    "from fastai import *\n",
    "from fastai.text import *"
   ]
  },
  {
   "cell_type": "code",
   "execution_count": 3,
   "metadata": {},
   "outputs": [],
   "source": [
    "a = pd.read_csv('TestData.csv')"
   ]
  },
  {
   "cell_type": "code",
   "execution_count": 4,
   "metadata": {},
   "outputs": [],
   "source": [
    "a['sds'] = 5"
   ]
  },
  {
   "cell_type": "code",
   "execution_count": 6,
   "metadata": {},
   "outputs": [],
   "source": [
    "a.to_csv('TestData.csv')"
   ]
  },
  {
   "cell_type": "code",
   "execution_count": null,
   "metadata": {},
   "outputs": [],
   "source": []
  },
  {
   "cell_type": "code",
   "execution_count": null,
   "metadata": {},
   "outputs": [],
   "source": [
    "learn = prepare_learner()"
   ]
  },
  {
   "cell_type": "code",
   "execution_count": null,
   "metadata": {},
   "outputs": [],
   "source": [
    "def get_prediction(text):\n",
    "    \"\"\" return the prediction value of the text\n",
    "    text: plain text  \"\"\"\n",
    "    \n",
    "    print(\"I have got a prediction\")\n",
    "    x = learn.predict(text)\n",
    "    print('The prediction is: ',x)\n",
    "    return np.argmax(x[-1],0)\n",
    "    pass\n"
   ]
  },
  {
   "cell_type": "code",
   "execution_count": null,
   "metadata": {},
   "outputs": [],
   "source": [
    "\n",
    "def predict_file(data_file):\n",
    "    \"\"\" add Predict column to data_file\n",
    "    data_file: csv file \"\"\"\n",
    "    \n",
    "    print(\"I am in predict file\")\n",
    "    \n",
    "    df = pd.read_csv(path)\n",
    "    \n",
    "    review = df.iloc[:,0]\n",
    "    \n",
    "    prediction = [get_prediction(i,learn).tolist() for i in review]\n",
    "    df['predictions'] = prediction\n",
    "    print(\"Predictions are saved in dataframe\")\n",
    "    df.to_csv(path)\n",
    "    print(\"predictions a re saved in file\")\n",
    "    \n",
    "    return prediction\n",
    "    pass\n"
   ]
  },
  {
   "cell_type": "code",
   "execution_count": null,
   "metadata": {},
   "outputs": [],
   "source": [
    "def prepare_learner(path ='',bs=48):\n",
    "    data_clas = TextClasDataBunch.load(path, 'tmp_clas', bs=bs)\n",
    "    learn = text_classifier_learner(data_clas, drop_mult=0.5)\n",
    "    learn.load_encoder('fine_tuned_enc')\n",
    "    learn.load('third')\n",
    "    return learn"
   ]
  }
 ],
 "metadata": {
  "kernelspec": {
   "display_name": "Python (fastv1)",
   "language": "python",
   "name": "fastv1"
  },
  "language_info": {
   "codemirror_mode": {
    "name": "ipython",
    "version": 3
   },
   "file_extension": ".py",
   "mimetype": "text/x-python",
   "name": "python",
   "nbconvert_exporter": "python",
   "pygments_lexer": "ipython3",
   "version": "3.7.2"
  }
 },
 "nbformat": 4,
 "nbformat_minor": 2
}
